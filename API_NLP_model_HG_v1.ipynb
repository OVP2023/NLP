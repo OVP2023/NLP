{
  "nbformat": 4,
  "nbformat_minor": 0,
  "metadata": {
    "colab": {
      "provenance": [],
      "authorship_tag": "ABX9TyOeZOsv+/btoEuUL6kFg3+f",
      "include_colab_link": true
    },
    "kernelspec": {
      "name": "python3",
      "display_name": "Python 3"
    },
    "language_info": {
      "name": "python"
    }
  },
  "cells": [
    {
      "cell_type": "markdown",
      "metadata": {
        "id": "view-in-github",
        "colab_type": "text"
      },
      "source": [
        "<a href=\"https://colab.research.google.com/github/OVP2023/NLP/blob/main/API_NLP_model_HG_v1.ipynb\" target=\"_parent\"><img src=\"https://colab.research.google.com/assets/colab-badge.svg\" alt=\"Open In Colab\"/></a>"
      ]
    },
    {
      "cell_type": "code",
      "execution_count": null,
      "metadata": {
        "id": "iMysdDpnavpx"
      },
      "outputs": [],
      "source": [
        "!pip install -qU langchain_community  faiss-cpu"
      ]
    },
    {
      "cell_type": "code",
      "source": [
        "# 1. Загрузка данных (пример)\n",
        "documents = \"Глобальное потепление вызывает повышение уровня моря. ИИ трансформирует медицину через анализ больших данных. Python популярен в машинном обучении из-за простого синтаксиса. Квантовые компьютеры используют кубиты вместо битов.\""
      ],
      "metadata": {
        "id": "PUAR8m7ODa2M"
      },
      "execution_count": null,
      "outputs": []
    },
    {
      "cell_type": "code",
      "source": [
        "# 2. Разделение текста на ча\n",
        "import nltk\n",
        "from nltk.tokenize import sent_tokenize\n",
        "\n",
        "nltk.download('punkt_tab')\n",
        "chunks = sent_tokenize(documents)\n",
        "chunks"
      ],
      "metadata": {
        "colab": {
          "base_uri": "https://localhost:8080/"
        },
        "id": "e3e2PipkDa5I",
        "outputId": "23188637-f11c-4d3b-a640-596f850e4944"
      },
      "execution_count": null,
      "outputs": [
        {
          "output_type": "stream",
          "name": "stderr",
          "text": [
            "[nltk_data] Downloading package punkt_tab to /root/nltk_data...\n",
            "[nltk_data]   Package punkt_tab is already up-to-date!\n"
          ]
        },
        {
          "output_type": "execute_result",
          "data": {
            "text/plain": [
              "['Глобальное потепление вызывает повышение уровня моря.',\n",
              " 'ИИ трансформирует медицину через анализ больших данных.',\n",
              " 'Python популярен в машинном обучении из-за простого синтаксиса.',\n",
              " 'Квантовые компьютеры используют кубиты вместо битов.']"
            ]
          },
          "metadata": {},
          "execution_count": 3
        }
      ]
    },
    {
      "cell_type": "code",
      "source": [
        "from sentence_transformers import SentenceTransformer\n",
        "\n",
        "model = SentenceTransformer(\"all-MiniLM-L6-v2\")   #paraphrase-multilingual-MiniLM-L12-v2\n",
        "embeddings = model.encode(chunks)\n",
        "embeddings"
      ],
      "metadata": {
        "colab": {
          "base_uri": "https://localhost:8080/"
        },
        "id": "7tQrepvvHh5u",
        "outputId": "2a5bfda4-42f4-4795-a5d6-560f58650fd9"
      },
      "execution_count": null,
      "outputs": [
        {
          "output_type": "stream",
          "name": "stderr",
          "text": [
            "/usr/local/lib/python3.11/dist-packages/huggingface_hub/utils/_auth.py:94: UserWarning: \n",
            "The secret `HF_TOKEN` does not exist in your Colab secrets.\n",
            "To authenticate with the Hugging Face Hub, create a token in your settings tab (https://huggingface.co/settings/tokens), set it as secret in your Google Colab and restart your session.\n",
            "You will be able to reuse this secret in all of your notebooks.\n",
            "Please note that authentication is recommended but still optional to access public models or datasets.\n",
            "  warnings.warn(\n"
          ]
        },
        {
          "output_type": "execute_result",
          "data": {
            "text/plain": [
              "array([[ 1.0957621e-02,  1.9309346e-02,  2.1035144e-02, ...,\n",
              "         5.2813783e-02, -2.0164952e-02, -2.0569043e-02],\n",
              "       [-7.8208307e-03,  2.3943042e-02, -2.0279085e-02, ...,\n",
              "         1.8545466e-02,  3.5966087e-02, -5.8046933e-02],\n",
              "       [-8.4419951e-02,  4.5016184e-02, -6.3754469e-02, ...,\n",
              "         7.7017844e-02,  6.5275408e-02, -1.2373903e-02],\n",
              "       [ 3.2368209e-02,  7.7365563e-05, -3.6628928e-02, ...,\n",
              "         5.5962689e-02, -5.4948046e-03, -4.1905292e-03]], dtype=float32)"
            ]
          },
          "metadata": {},
          "execution_count": 4
        }
      ]
    },
    {
      "cell_type": "code",
      "source": [
        "import faiss\n",
        "import numpy as np\n",
        "\n",
        "dim = embeddings.shape[1]\n",
        "index = faiss.IndexFlatL2(dim)\n",
        "index.add(np.array(embeddings).astype(\"float32\"))"
      ],
      "metadata": {
        "id": "zbrEKXEdDa8F"
      },
      "execution_count": null,
      "outputs": []
    },
    {
      "cell_type": "code",
      "source": [
        "topn = 2\n",
        "D, I = index.search(embeddings[:3], topn)\n",
        "\n",
        "print(I)\n",
        "print(D)"
      ],
      "metadata": {
        "id": "lrGWjYwUDbA7",
        "colab": {
          "base_uri": "https://localhost:8080/"
        },
        "outputId": "09109f8f-4e1e-450e-ff1d-d1587ec1e4b0"
      },
      "execution_count": null,
      "outputs": [
        {
          "output_type": "stream",
          "name": "stdout",
          "text": [
            "[[0 3]\n",
            " [1 3]\n",
            " [2 0]]\n",
            "[[0.         0.5978128 ]\n",
            " [0.         0.73769957]\n",
            " [0.         0.7737609 ]]\n"
          ]
        }
      ]
    },
    {
      "cell_type": "code",
      "source": [],
      "metadata": {
        "id": "eTy-W0EQvXnI"
      },
      "execution_count": null,
      "outputs": []
    },
    {
      "cell_type": "code",
      "source": [],
      "metadata": {
        "id": "0w9dSNE0vXs5"
      },
      "execution_count": null,
      "outputs": []
    },
    {
      "cell_type": "code",
      "source": [],
      "metadata": {
        "id": "axE0eadzDbJD"
      },
      "execution_count": null,
      "outputs": []
    },
    {
      "cell_type": "code",
      "source": [],
      "metadata": {
        "id": "bM61k5VfDbO9"
      },
      "execution_count": null,
      "outputs": []
    }
  ]
}